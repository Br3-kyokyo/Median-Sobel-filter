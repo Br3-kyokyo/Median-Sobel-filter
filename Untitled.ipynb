{
 "cells": [
  {
   "cell_type": "code",
   "execution_count": 17,
   "metadata": {},
   "outputs": [],
   "source": [
    "from PIL import Image\n",
    "import numpy as np\n",
    "from copy import deepcopy"
   ]
  },
  {
   "cell_type": "code",
   "execution_count": 23,
   "metadata": {},
   "outputs": [],
   "source": [
    "def sort_row(array):\n",
    "    for row in np.arange(0, array.shape[0]):\n",
    "        for col in np.arange(0, array.shape[1]):\n",
    "            for col_cmp in np.arange(0, col):\n",
    "                if array[row, col, 0] > array[row, col_cmp, 0]:\n",
    "                    array[row, col, :], array[row, col_cmp, :] = deepcopy(array[row, col_cmp, :]), deepcopy(array[row, col, :])\n",
    "                    \n",
    "def sort_col(array):\n",
    "        for row in np.arange(0, array.shape[0]):\n",
    "            for row_cmp in np.arange(0, row):\n",
    "                if array[row, 0] > array[row_cmp, 0]:\n",
    "                    array[row, :], array[row_cmp, :] = deepcopy(array[row, :]), deepcopy(array[row_cmp, :])"
   ]
  },
  {
   "cell_type": "code",
   "execution_count": 24,
   "metadata": {},
   "outputs": [],
   "source": [
    "img = Image.open(\"sample.jpg\")"
   ]
  },
  {
   "cell_type": "code",
   "execution_count": 25,
   "metadata": {},
   "outputs": [],
   "source": [
    "imgarray = np.asarray(img)\n",
    "for i in np.arange(0,3):\n",
    "    imgarray = np.insert(imgarray, 0, 0, 0)\n",
    "for i in np.arange(0,3):\n",
    "    imgarray = np.insert(imgarray, 0, 0, 1)\n",
    "for i in np.arange(0,3):\n",
    "    imgarray = np.insert(imgarray, imgarray.shape[1], 0, 1)\n",
    "for i in np.arange(0,3):\n",
    "    imgarray = np.insert(imgarray, imgarray.shape[0], 0, 0)\n"
   ]
  },
  {
   "cell_type": "code",
   "execution_count": null,
   "metadata": {},
   "outputs": [],
   "source": [
    "#フィルタ後の画像を書き込むため、imgarrayのコピーを作成\n",
    "imgarray_median = deepcopy(imgarray)\n",
    "\n",
    "#各ピクセルについて7×7メディアンフィルタをかける\n",
    "for col in np.arange(3, imgarray.shape[1]-3):\n",
    "    for row in np.arange(3, imgarray.shape[0]-3):\n",
    "        \n",
    "        #ウィンドウ部分を行列に抽出\n",
    "        window = imgarray[col-3:col+4, row-3:row+4,:]\n",
    " \n",
    "        #フィルタウィンドウを行でソートする\n",
    "        sort_row(window)\n",
    "            \n",
    "        #ウィンドウの3列目(各行の中央値)を抽出\n",
    "        medians_row = window[:,3,:]\n",
    "        \n",
    "        #列でソートする\n",
    "        sort_col(medians_row)\n",
    "        \n",
    "        #中央値を抽出\n",
    "        median = medians_row[3,:]\n",
    "\n",
    "        #結果を書き込む\n",
    "        imgarray_median[row,col,:] = median"
   ]
  },
  {
   "cell_type": "code",
   "execution_count": null,
   "metadata": {},
   "outputs": [],
   "source": [
    "Image.fromarray(window)"
   ]
  },
  {
   "cell_type": "code",
   "execution_count": 22,
   "metadata": {},
   "outputs": [
    {
     "data": {
      "text/plain": [
       "array([[  0,   0,   0],\n",
       "       [  0,   0,   0],\n",
       "       [  0,   0,   0],\n",
       "       [152, 180, 129],\n",
       "       [152, 180, 129],\n",
       "       [152, 181, 127],\n",
       "       [152, 181, 127]], dtype=uint8)"
      ]
     },
     "execution_count": 22,
     "metadata": {},
     "output_type": "execute_result"
    }
   ],
   "source": [
    "medians_row"
   ]
  },
  {
   "cell_type": "code",
   "execution_count": null,
   "metadata": {},
   "outputs": [],
   "source": [
    "len(imgarray[0,:,0])-3"
   ]
  },
  {
   "cell_type": "code",
   "execution_count": 13,
   "metadata": {},
   "outputs": [],
   "source": [
    "hoge = np.array([\n",
    "    [[5,6],[7,7]],\n",
    "    [[3,5],[9,7]]])"
   ]
  },
  {
   "cell_type": "code",
   "execution_count": 14,
   "metadata": {},
   "outputs": [],
   "source": [
    "sort_row(hoge)"
   ]
  },
  {
   "cell_type": "code",
   "execution_count": 15,
   "metadata": {},
   "outputs": [
    {
     "data": {
      "text/plain": [
       "array([[[7, 7],\n",
       "        [5, 6]],\n",
       "\n",
       "       [[9, 7],\n",
       "        [3, 5]]])"
      ]
     },
     "execution_count": 15,
     "metadata": {},
     "output_type": "execute_result"
    }
   ],
   "source": [
    "hoge"
   ]
  },
  {
   "cell_type": "code",
   "execution_count": null,
   "metadata": {},
   "outputs": [],
   "source": []
  }
 ],
 "metadata": {
  "kernelspec": {
   "display_name": "Python 3",
   "language": "python",
   "name": "python3"
  },
  "language_info": {
   "codemirror_mode": {
    "name": "ipython",
    "version": 3
   },
   "file_extension": ".py",
   "mimetype": "text/x-python",
   "name": "python",
   "nbconvert_exporter": "python",
   "pygments_lexer": "ipython3",
   "version": "3.7.1"
  }
 },
 "nbformat": 4,
 "nbformat_minor": 2
}
